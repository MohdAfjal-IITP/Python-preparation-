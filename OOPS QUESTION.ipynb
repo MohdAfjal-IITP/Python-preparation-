{
 "cells": [
  {
   "cell_type": "markdown",
   "metadata": {},
   "source": [
    "OOPS"
   ]
  },
  {
   "cell_type": "code",
   "execution_count": 2,
   "metadata": {},
   "outputs": [
    {
     "name": "stdout",
     "output_type": "stream",
     "text": [
      "('KHAN', 60)\n",
      "('KHAN', 40)\n",
      "('KHAN', 24)\n",
      "('KHAN', 10.0)\n",
      "None\n",
      "('KHAN', 0)\n",
      "None\n",
      "None\n"
     ]
    }
   ],
   "source": [
    "from functools import  reduce\n",
    "\n",
    "import logging\n",
    "logging.basicConfig(\n",
    "    filename = 'OPRATATION.log' ,\n",
    "    level = logging.DEBUG , \n",
    "    format = '%(asctime)s- %(levelname)s- %(message)s'\n",
    ")\n",
    "\n",
    "class calculater :\n",
    "    logging.info(\"Calculator program started.\")\n",
    "\n",
    "    def __init__ (self , username):\n",
    "        self.username = username\n",
    "        logging.info(f\"User '{self.username}' entered.\")\n",
    "\n",
    "    def add (self , *X):\n",
    "        try:\n",
    "            result = sum(X)\n",
    "            logging.info(f\"Addition operation by {self.username}: {X} = {result}\")\n",
    "            return self.username , result\n",
    "        except Exception as t:\n",
    "            logging.error(f\"Error in Addition : {t}\")\n",
    "\n",
    "    def sub (self , *X):\n",
    "        try:\n",
    "            result = reduce(lambda a,b : a-b , X)\n",
    "            logging.info(f\"Subtraction opration by {self.username} : {X} = {result}\")\n",
    "            return self.username , result\n",
    "        except Exception as t:\n",
    "            logging.error(f\"Error is subtraction : {t}\")\n",
    "\n",
    "    def mult (self , *X):\n",
    "        try: \n",
    "            result = reduce(lambda a,b : a*b, X)\n",
    "            logging.info(f\"Multipication opration by {self.username} : {X} = {result}\")\n",
    "            return self.username , result\n",
    "        except Exception as t:\n",
    "            logging.error(f\"Error in multipl : {t}\")\n",
    "\n",
    "    def div (self , *X):\n",
    "        try: \n",
    "            result = reduce(lambda a,b : a/b , X)\n",
    "            logging.info(f\"DIVISION opratation by {self.username} : {X} = {result}\")\n",
    "            return self.username  , result\n",
    "        except Exception as t:\n",
    "            logging.error(f\"Error in division : {t}\")\n",
    "\n",
    "Afjal = calculater(\"KHAN\")\n",
    "print(Afjal.add(10, 20, 30))     \n",
    "print(Afjal.sub(100, 50, 10))    \n",
    "print(Afjal.mult(2, 3, 4))       \n",
    "print(Afjal.div(100, 5, 2))      \n",
    "print(Afjal.div(10, 0))          \n",
    "print(Afjal.add())              \n",
    "print(Afjal.sub()) \n",
    "print(Afjal.add(\"afjal\" , 4,5,6)) "
   ]
  },
  {
   "cell_type": "code",
   "execution_count": 6,
   "metadata": {},
   "outputs": [
    {
     "data": {
      "text/plain": [
       "('Mohd afjal', 'Marsadees')"
      ]
     },
     "execution_count": 6,
     "metadata": {},
     "output_type": "execute_result"
    }
   ],
   "source": [
    "# Define a Car class with attributes brand, model, and year. Create an object and print its details.\n",
    "\n",
    "class car :\n",
    "\n",
    "    def __init__(self , brand , model , year, customer_name):\n",
    "        self.brand = brand\n",
    "        self.model = model\n",
    "        self.year = year\n",
    "        self.customer_name = customer_name\n",
    "\n",
    "    def brand_details(self):\n",
    "        return self.customer_name ,  self.brand\n",
    "    \n",
    "    def model_details(self):\n",
    "        return self.customer_name , self.model\n",
    "    \n",
    "    def year_details(self):\n",
    "        return self.customer_name ,  self.model\n",
    "\n",
    "Afjal = car('Marsadees','Banze' , 2025 , 'Mohd afjal')\n",
    "Afjal.brand_details()"
   ]
  },
  {
   "cell_type": "code",
   "execution_count": 6,
   "metadata": {},
   "outputs": [
    {
     "name": "stdout",
     "output_type": "stream",
     "text": [
      " Car details : Toyota Corolla (2022). User name --> (Mohd Afjal)\n"
     ]
    }
   ],
   "source": [
    "class car :\n",
    "\n",
    "    def __init__(self , brand , model , year, customer_name):\n",
    "        self.brand = brand\n",
    "        self.model = model\n",
    "        self.year = year\n",
    "        self.customer_name = customer_name\n",
    "\n",
    "    def car_details(self):\n",
    "        print(f\" Car details : {self.brand} {self.model} ({self.year}). User name --> ({self.customer_name})\")\n",
    "\n",
    "user1_car = car(\"Toyota\", \"Corolla\", 2022 ,\"Mohd Afjal\" )  \n",
    "user1_car.car_details()"
   ]
  },
  {
   "cell_type": "code",
   "execution_count": null,
   "metadata": {},
   "outputs": [],
   "source": [
    "# Write a Python program to log messages at different levels (INFO, WARNING, ERROR) to a file.\n",
    "\n"
   ]
  },
  {
   "cell_type": "code",
   "execution_count": 2,
   "metadata": {},
   "outputs": [
    {
     "name": "stdout",
     "output_type": "stream",
     "text": [
      "Account number : 21245824565 \n",
      "Account_holder_name : Mohd Afjal\n",
      "Account balance : 1000\n"
     ]
    }
   ],
   "source": [
    "# Bank account create a class representing a bank account with attributes.\n",
    "# like account number , account holder name , and balance . implement methods deposit and withdraw money from the account.\n",
    "\n",
    "class Bank_account :\n",
    "\n",
    "  def __init__ (self, account_number , account_holder_name , balance = 0.0 ):\n",
    "    self.account_number = account_number\n",
    "    self.account_holder_name = account_holder_name\n",
    "    self.balance = balance\n",
    "    \n",
    "  # Deposit function - paise jama karne ke liye\n",
    "\n",
    "  def deposit (self , ammount):\n",
    "\n",
    "    if ammount > 0 :\n",
    "      self.balance += ammount\n",
    "      print(f\"{ammount} deposit succesfully . New balance : {self.balance}\")\n",
    "    else:\n",
    "      print(\"Deposit ammount should be grater then zero\")\n",
    "\n",
    "  # Withdraw function - paise nikalne ke liye\n",
    "\n",
    "  def Withdraw (self , ammount):\n",
    "\n",
    "    if ammount > self.balance:\n",
    "      print(\"Insufficient balance!\")\n",
    "\n",
    "    elif ammount <= 0 :\n",
    "      print(\"Withdrawal amount should be greater than zero!\")\n",
    "\n",
    "    else :\n",
    "      self.balance-= ammount\n",
    "      print (f\"{ammount} withdrawal succesfully . Remaining ballance : {self.balance}\")\n",
    "\n",
    "  def account_details(self):\n",
    "    print(f\"Account number : {self.account_number} \")\n",
    "    print(f\"Account_holder_name : { self.account_holder_name}\")\n",
    "    print(f\"Account balance : {self.balance}\") \n",
    "\n",
    "User1 = Bank_account(21245824565 , \"Mohd Afjal\" , 1000)\n",
    "User1.account_details()"
   ]
  },
  {
   "cell_type": "code",
   "execution_count": 3,
   "metadata": {},
   "outputs": [
    {
     "name": "stdout",
     "output_type": "stream",
     "text": [
      "200000 deposit succesfully . New balance : 201000\n"
     ]
    }
   ],
   "source": [
    "User1.deposit(200000)"
   ]
  },
  {
   "cell_type": "code",
   "execution_count": 4,
   "metadata": {},
   "outputs": [
    {
     "name": "stdout",
     "output_type": "stream",
     "text": [
      "9999 withdrawal succesfully . Remaining ballance : 191001\n"
     ]
    }
   ],
   "source": [
    "User1.Withdraw(9999)"
   ]
  },
  {
   "cell_type": "code",
   "execution_count": 5,
   "metadata": {},
   "outputs": [
    {
     "name": "stdout",
     "output_type": "stream",
     "text": [
      "Account number : 21245824565 \n",
      "Account_holder_name : Mohd Afjal\n",
      "Account balance : 191001\n"
     ]
    }
   ],
   "source": [
    "User1.account_details()"
   ]
  },
  {
   "cell_type": "code",
   "execution_count": 8,
   "metadata": {},
   "outputs": [
    {
     "name": "stdout",
     "output_type": "stream",
     "text": [
      "Employee_id : E101\n",
      "Employee_name : Mohd Afjal\n",
      "Salary : 200000\n",
      "Yearly Bonus: 20000.0\n"
     ]
    }
   ],
   "source": [
    "# Employee Management Create a class representing an employee with attributes.\n",
    "# like emmploy ID , name , and salary . implement methods to calculate the yearly bonus and display employee details\n",
    "\n",
    "class Employee_management ():\n",
    "    # Constructor - employee ka data set karne ke liye\n",
    "\n",
    "    def __init__ (self,Employe_ID , Name , Salary ):\n",
    "        self.Employe_ID = Employe_ID\n",
    "        self.Name = Name\n",
    "        self.Salary = Salary\n",
    "\n",
    "    def Calculate_bonus (self):\n",
    "        bonus = self.Salary * 0.10\n",
    "        return bonus\n",
    "\n",
    "    def Employee_details (self):\n",
    "        print(F\"Employee_id : {self.Employe_ID}\")\n",
    "        print(f\"Employee_name : {self.Name}\")\n",
    "        print(f\"Salary : {self.Salary}\")\n",
    "        print(f\"Yearly Bonus: {self.Calculate_bonus()}\")\n",
    "    \n",
    "\n",
    "# Example use:\n",
    "Employee_1 = Employee_management(\"E101\" , \"Mohd Afjal\" , 200000 )\n",
    "Employee_1.Employee_details()\n"
   ]
  },
  {
   "cell_type": "code",
   "execution_count": null,
   "metadata": {},
   "outputs": [],
   "source": [
    "\n",
    "    #def Calculate_bonus (self , ammount , year):\n",
    "       # if ammount > 0:\n",
    "           # bonus += ammount\n",
    "           #  print(f\"{ammount} Deposit succesfully : {self.bonus} IN This Year --> {year}\")\n",
    "\n",
    "       # else:\n",
    "            # print(\"Less then Zero rupees are not deposite\")"
   ]
  },
  {
   "cell_type": "code",
   "execution_count": 9,
   "metadata": {},
   "outputs": [],
   "source": [
    "class Employee:\n",
    "    # Constructor - employee ka data set karne ke liye\n",
    "    def __init__(self, emp_id, name, salary , bonus = 0.0):\n",
    "        self.emp_id = emp_id\n",
    "        self.name = name\n",
    "        self.salary = salary\n",
    "        self.bonus = bonus\n",
    "\n",
    "    def Calculate_bonus (self , ammount , year):\n",
    "        if ammount > 0:\n",
    "           self.bonus += ammount\n",
    "           print(f\"{ammount} Deposit succesfully : {self.bonus} IN This Year --> {year}\")\n",
    "\n",
    "        else:\n",
    "            print(\"Less then Zero rupees are not deposite\")\n",
    "\n",
    "    def Employee_details (self):\n",
    "        print(F\"Employee_id : {self.emp_id}\")\n",
    "        print(f\"Employee_name : {self.name}\")\n",
    "        print(f\"Salary : {self.salary}\")\n",
    "        print(f\"Yearly Bonus: {self.bonus}\")\n",
    "\n",
    "emp1 = Employee(\"E101\", \"Afjal Khan\", 50000)\n"
   ]
  },
  {
   "cell_type": "code",
   "execution_count": 10,
   "metadata": {},
   "outputs": [
    {
     "name": "stdout",
     "output_type": "stream",
     "text": [
      "20000 Deposit succesfully : 20000.0 IN This Year --> 2024\n"
     ]
    }
   ],
   "source": [
    "emp1.Calculate_bonus(20000 , 2024)"
   ]
  },
  {
   "cell_type": "code",
   "execution_count": 11,
   "metadata": {},
   "outputs": [
    {
     "name": "stdout",
     "output_type": "stream",
     "text": [
      "Employee_id : E101\n",
      "Employee_name : Afjal Khan\n",
      "Salary : 50000\n",
      "Yearly Bonus: 20000.0\n"
     ]
    }
   ],
   "source": [
    "emp1.Employee_details()"
   ]
  },
  {
   "cell_type": "code",
   "execution_count": 33,
   "metadata": {},
   "outputs": [],
   "source": [
    "# vehicle rental create a class representing a vehicle rental system . implement methods to rent a vechicle , return a vehicle, and display available vehicles.\n",
    "\n",
    "class vehicle_rental():\n",
    "\n",
    "    def __init__(self):\n",
    "        self.available_vehicle = [\"bick\" , \"Car\" , \"Truck\" , \"Cycle\"]\n",
    "    \n",
    "    def display_avaiable_vehicles (self):\n",
    "        print(\"Available Vehicles\")\n",
    "        for vehicle in self.available_vehicle:\n",
    "            print(f\"{vehicle}\")\n",
    "    \n",
    "       # Method to rent a vehicle\n",
    "    \n",
    "    def rent_vechicle (self,vehicle_name):\n",
    "        if vehicle_name in self.available_vehicle:\n",
    "            self.available_vehicle.remove(vehicle_name)\n",
    "            print(F\"{vehicle_name} has been rent succesfully \")\n",
    "        else:\n",
    "            print(f\"sorry {vehicle_name} is not available wright now\")\n",
    "        \n",
    "       # Method to return a vehicle\n",
    "\n",
    "    def return_vehicles (self , vehicle_name):\n",
    "        self.available_vehicle.append(vehicle_name)\n",
    "        print(f'{vehicle_name} has been return succesfully')\n",
    "\n",
    "rental_system = vehicle_rental()"
   ]
  },
  {
   "cell_type": "code",
   "execution_count": 34,
   "metadata": {},
   "outputs": [
    {
     "name": "stdout",
     "output_type": "stream",
     "text": [
      "Available Vehicles\n",
      "bick\n",
      "Car\n",
      "Truck\n",
      "Cycle\n"
     ]
    }
   ],
   "source": [
    "rental_system.display_avaiable_vehicles()"
   ]
  },
  {
   "cell_type": "code",
   "execution_count": 35,
   "metadata": {},
   "outputs": [
    {
     "name": "stdout",
     "output_type": "stream",
     "text": [
      "sorry BMW is not available wright now\n"
     ]
    }
   ],
   "source": [
    "rental_system.rent_vechicle(\"BMW\")"
   ]
  },
  {
   "cell_type": "code",
   "execution_count": 36,
   "metadata": {},
   "outputs": [
    {
     "name": "stdout",
     "output_type": "stream",
     "text": [
      "Car has been rent succesfully \n"
     ]
    }
   ],
   "source": [
    "rental_system.rent_vechicle(\"Car\")"
   ]
  },
  {
   "cell_type": "code",
   "execution_count": 37,
   "metadata": {},
   "outputs": [
    {
     "name": "stdout",
     "output_type": "stream",
     "text": [
      "Truck has been rent succesfully \n"
     ]
    }
   ],
   "source": [
    "rental_system.rent_vechicle(\"Truck\")"
   ]
  },
  {
   "cell_type": "code",
   "execution_count": 39,
   "metadata": {},
   "outputs": [
    {
     "name": "stdout",
     "output_type": "stream",
     "text": [
      "Available Vehicles\n",
      "bick\n",
      "Cycle\n"
     ]
    }
   ],
   "source": [
    "rental_system.display_avaiable_vehicles()"
   ]
  },
  {
   "cell_type": "code",
   "execution_count": 40,
   "metadata": {},
   "outputs": [
    {
     "name": "stdout",
     "output_type": "stream",
     "text": [
      "plane has been return succesfully\n"
     ]
    }
   ],
   "source": [
    "rental_system.return_vehicles(\"plane\")"
   ]
  },
  {
   "cell_type": "code",
   "execution_count": 41,
   "metadata": {},
   "outputs": [
    {
     "name": "stdout",
     "output_type": "stream",
     "text": [
      "Available Vehicles\n",
      "bick\n",
      "Cycle\n",
      "plane\n"
     ]
    }
   ],
   "source": [
    "rental_system.display_avaiable_vehicles()"
   ]
  },
  {
   "cell_type": "code",
   "execution_count": null,
   "metadata": {},
   "outputs": [],
   "source": []
  }
 ],
 "metadata": {
  "kernelspec": {
   "display_name": "Python 3",
   "language": "python",
   "name": "python3"
  },
  "language_info": {
   "codemirror_mode": {
    "name": "ipython",
    "version": 3
   },
   "file_extension": ".py",
   "mimetype": "text/x-python",
   "name": "python",
   "nbconvert_exporter": "python",
   "pygments_lexer": "ipython3",
   "version": "3.13.2"
  }
 },
 "nbformat": 4,
 "nbformat_minor": 2
}
